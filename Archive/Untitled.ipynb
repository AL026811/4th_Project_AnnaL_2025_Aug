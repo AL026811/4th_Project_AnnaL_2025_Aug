{
 "cells": [
  {
   "cell_type": "code",
   "execution_count": 1,
   "id": "2c0e7e2e-cb8a-4576-a9d2-3b4919f4ec23",
   "metadata": {},
   "outputs": [
    {
     "ename": "AttributeError",
     "evalue": "'FileFinder' object has no attribute 'find_module'",
     "output_type": "error",
     "traceback": [
      "\u001b[31m---------------------------------------------------------------------------\u001b[39m",
      "\u001b[31mAttributeError\u001b[39m                            Traceback (most recent call last)",
      "\u001b[36mCell\u001b[39m\u001b[36m \u001b[39m\u001b[32mIn[1]\u001b[39m\u001b[32m, line 1\u001b[39m\n\u001b[32m----> \u001b[39m\u001b[32m1\u001b[39m \u001b[38;5;28;01mimport\u001b[39;00m\u001b[38;5;250m \u001b[39m\u001b[34;01msnscrape\u001b[39;00m\u001b[34;01m.\u001b[39;00m\u001b[34;01mmodules\u001b[39;00m\u001b[34;01m.\u001b[39;00m\u001b[34;01mtwitter\u001b[39;00m\u001b[38;5;250m \u001b[39m\u001b[38;5;28;01mas\u001b[39;00m\u001b[38;5;250m \u001b[39m\u001b[34;01msntwitter\u001b[39;00m\n\u001b[32m      2\u001b[39m \u001b[38;5;28;01mimport\u001b[39;00m\u001b[38;5;250m \u001b[39m\u001b[34;01mpandas\u001b[39;00m\u001b[38;5;250m \u001b[39m\u001b[38;5;28;01mas\u001b[39;00m\u001b[38;5;250m \u001b[39m\u001b[34;01mpd\u001b[39;00m\n\u001b[32m      4\u001b[39m query = \u001b[33m\"\u001b[39m\u001b[33mData Scrapping\u001b[39m\u001b[33m\"\u001b[39m\n",
      "\u001b[36mFile \u001b[39m\u001b[32m~\\AppData\\Local\\anaconda3\\envs\\py3_12\\Lib\\site-packages\\snscrape\\modules\\__init__.py:17\u001b[39m\n\u001b[32m     13\u001b[39m \t\tmodule = importer.find_module(moduleName).load_module(moduleName)\n\u001b[32m     14\u001b[39m \t\t\u001b[38;5;28mglobals\u001b[39m()[moduleNameWithoutPrefix] = module\n\u001b[32m---> \u001b[39m\u001b[32m17\u001b[39m _import_modules()\n",
      "\u001b[36mFile \u001b[39m\u001b[32m~\\AppData\\Local\\anaconda3\\envs\\py3_12\\Lib\\site-packages\\snscrape\\modules\\__init__.py:13\u001b[39m, in \u001b[36m_import_modules\u001b[39m\u001b[34m()\u001b[39m\n\u001b[32m     11\u001b[39m moduleNameWithoutPrefix = moduleName[prefixLen:]\n\u001b[32m     12\u001b[39m __all__.append(moduleNameWithoutPrefix)\n\u001b[32m---> \u001b[39m\u001b[32m13\u001b[39m module = importer.find_module(moduleName).load_module(moduleName)\n\u001b[32m     14\u001b[39m \u001b[38;5;28mglobals\u001b[39m()[moduleNameWithoutPrefix] = module\n",
      "\u001b[31mAttributeError\u001b[39m: 'FileFinder' object has no attribute 'find_module'"
     ]
    }
   ],
   "source": [
    "import snscrpaipope.modules.twitter as sntwitter\n",
    "import pandas as pd\n",
    "\n",
    "query = \"Data Scrapping\"\n",
    "min_likes = 20\n",
    "language = \"en\"\n",
    "since_year = \"2021-5-01\"\n",
    "until_year = \"2021-5-30\"\n",
    "xlsx_name = \"tweets_july_2021.xlsx\""
   ]
  },
  {
   "cell_type": "code",
   "execution_count": null,
   "id": "ad24d7bf-2b52-4671-9e79-07af86645c6b",
   "metadata": {},
   "outputs": [],
   "source": [
    "tweets = []\n",
    "\n",
    "search_query = f'{query} min_retweets:0 min_faves:{min_likes} lang:\"{language}\" since:{since_year} until:{until_year}'\n",
    "\n",
    "for tweet in sntwitter.TwitterSearchScraper(search_query).get_items():\n",
    "    # Extract relevant information from the tweet\n",
    "    tweet_data = {\n",
    "        \"Id\": tweet.id,\n",
    "        \"tweet\": tweet.content,\n",
    "        \"Likes\": tweet.likeCount,\n",
    "        \"Retweets\": tweet.retweetCount,\n",
    "        \"Date\": tweet.date.strftime(\"%Y-%m-%d %H:%M:%S\"),\n",
    "        \"id\": tweet.id,\n",
    "        \"created_at\": tweet.date.strftime(\"%Y-%m-%d %H:%M:%S\"),\n",
    "        \"tweet\": tweet.rawContent,\n",
    "        \"replies_count\": tweet.replyCount,\n",
    "        \"retweets_count\": tweet.retweetCount,\n",
    "        \"likes_count\": tweet.likeCount,\n",
    "        \"hashtags\": tweet.hashtags,\n",
    "        \"cashtags\": tweet.cashtags if tweet.cashtags else [],\n",
    "        \"language\": tweet.lang,\n",
    "        \"link\": tweet.url,\n",
    "        \"conversation_id\": tweet.conversationId,\n",
    "        \"Jahr\": tweet.date.year,\n",
    "        \"Monat\": tweet.date.month,\n",
    "        \"Tag\": tweet.date.day,\n",
    "        \"time\": tweet.date.time().strftime(\"%H:%M:%S\"),\n",
    "        \"user_id\": tweet.user.id,\n",
    "        \"username\": tweet.user.username,\n",
    "    }\n",
    "    \n",
    "    tweets.append(tweet_data)"
   ]
  },
  {
   "cell_type": "code",
   "execution_count": null,
   "id": "dd58575f-de79-41d8-8ca6-b45f09d9edb8",
   "metadata": {},
   "outputs": [],
   "source": [
    "df = pd.DataFrame(tweets)\n",
    "df.to_excel(xlsx_name, index=False)"
   ]
  }
 ],
 "metadata": {
  "kernelspec": {
   "display_name": "Python 3 (ipykernel)",
   "language": "python",
   "name": "python3"
  },
  "language_info": {
   "codemirror_mode": {
    "name": "ipython",
    "version": 3
   },
   "file_extension": ".py",
   "mimetype": "text/x-python",
   "name": "python",
   "nbconvert_exporter": "python",
   "pygments_lexer": "ipython3",
   "version": "3.12.11"
  }
 },
 "nbformat": 4,
 "nbformat_minor": 5
}
